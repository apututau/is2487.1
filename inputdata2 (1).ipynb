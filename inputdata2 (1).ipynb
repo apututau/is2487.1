{
  "nbformat": 4,
  "nbformat_minor": 0,
  "metadata": {
    "colab": {
      "provenance": []
    },
    "kernelspec": {
      "name": "python3",
      "display_name": "Python 3"
    },
    "language_info": {
      "name": "python"
    }
  },
  "cells": [
    {
      "cell_type": "code",
      "source": [
        "a= \"\"\"Ana Pututau\n",
        "January 28th,2024\n",
        "A data structure are specialized formats for ogranizing, processing, retrieving, and storing data.\n",
        "Mutable data is able to be changed after they are created. Immutable objects cannot. An example of a something mutable would be a list while a string is an example of immutable.\"\"\"\n",
        "\n",
        "print(a)\n"
      ],
      "metadata": {
        "colab": {
          "base_uri": "https://localhost:8080/"
        },
        "id": "cjDp0DK9zWCt",
        "outputId": "aad59158-21c9-41da-ba0a-10837987c7a4"
      },
      "execution_count": null,
      "outputs": [
        {
          "output_type": "stream",
          "name": "stdout",
          "text": [
            "Ana Pututau\n",
            "January 28th,2024\n",
            "A data structure are specialized formats for ogranizing, processing, retrieving, and storing data.\n",
            "Mutable data is able to be changed after they are created. Immutable objects cannot. An example of a something mutable would be a list while a string is an example of immutable.\n"
          ]
        }
      ]
    },
    {
      "cell_type": "code",
      "source": [
        "print(\"Problem 1:\")\n",
        "lst= [1,2,3,4,5]\n",
        "print(lst)\n",
        "print(2)\n",
        "print(len(lst))\n",
        "print(lst[0]*[2])\n"
      ],
      "metadata": {
        "colab": {
          "base_uri": "https://localhost:8080/"
        },
        "id": "lakbTjMhJfkZ",
        "outputId": "243dd29a-f35a-49b3-f0d7-eafc8664f0c9"
      },
      "execution_count": null,
      "outputs": [
        {
          "output_type": "stream",
          "name": "stdout",
          "text": [
            "Problem 1:\n",
            "[1, 2, 3, 4, 5]\n",
            "2\n",
            "5\n",
            "[2]\n"
          ]
        }
      ]
    },
    {
      "cell_type": "code",
      "source": [
        "print(\"Problem 2\")\n",
        "wlist=[\"green\", \"apple\", \"ball\", \"toy\", \"candy\", \"free\", \"sea\", \"fish\", \"crab\", \"chips\"]\n",
        "print(wlist)\n",
        "print(wlist[9].capitalize(),wlist[8],wlist[7],wlist[6],wlist[5], wlist[4], wlist[3], wlist[2],wlist[1],wlist[0], end=\".\")\n"
      ],
      "metadata": {
        "colab": {
          "base_uri": "https://localhost:8080/"
        },
        "id": "isvYYWQPL3kM",
        "outputId": "47d80f24-80ed-4d77-be0b-c74412849956"
      },
      "execution_count": null,
      "outputs": [
        {
          "output_type": "stream",
          "name": "stdout",
          "text": [
            "Problem 2\n",
            "['green', 'apple', 'ball', 'toy', 'candy', 'free', 'sea', 'fish', 'crab', 'chips']\n",
            "Chips crab fish sea free candy toy ball apple green."
          ]
        }
      ]
    },
    {
      "cell_type": "code",
      "source": [
        "print(\"Problem 3\")\n",
        "fltng_nmbrs = [.01, .02, .03, .04, .05, .06, .07, .08, .09, .10]\n",
        "\n",
        "print(fltng_nmbrs)\n",
        "\n",
        "tot= sum(fltng_nmbrs)\n",
        "print(\"The total of all numbers in the list\")\n",
        "print(tot)\n"
      ],
      "metadata": {
        "colab": {
          "base_uri": "https://localhost:8080/"
        },
        "id": "76i_-8rNgB_S",
        "outputId": "3bdfd164-974f-44a3-ad2e-d18879e86906"
      },
      "execution_count": null,
      "outputs": [
        {
          "output_type": "stream",
          "name": "stdout",
          "text": [
            "Problem 3\n",
            "[0.01, 0.02, 0.03, 0.04, 0.05, 0.06, 0.07, 0.08, 0.09, 0.1]\n",
            "The total of all numbers in the list\n",
            "0.55\n"
          ]
        }
      ]
    },
    {
      "cell_type": "code",
      "source": [
        "print(\"Problem 4\")\n"
      ],
      "metadata": {
        "colab": {
          "base_uri": "https://localhost:8080/"
        },
        "id": "jOGEjWG7hKMl",
        "outputId": "0859e3ee-8ca9-44a0-c348-1f8d037c2459"
      },
      "execution_count": null,
      "outputs": [
        {
          "output_type": "stream",
          "name": "stdout",
          "text": [
            "Problem 4\n"
          ]
        }
      ]
    },
    {
      "cell_type": "code",
      "source": [
        "print(\"Problem 5\")"
      ],
      "metadata": {
        "id": "jx35xoLchKtQ"
      },
      "execution_count": null,
      "outputs": []
    }
  ]
}